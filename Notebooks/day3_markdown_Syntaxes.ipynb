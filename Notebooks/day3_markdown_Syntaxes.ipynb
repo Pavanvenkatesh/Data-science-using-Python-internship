{
 "cells": [
  {
   "cell_type": "code",
   "execution_count": 1,
   "metadata": {},
   "outputs": [
    {
     "name": "stdout",
     "output_type": "stream",
     "text": [
      "Hello World!\n"
     ]
    }
   ],
   "source": [
    "print(\"Hello World!\");"
   ]
  },
  {
   "cell_type": "code",
   "execution_count": 2,
   "metadata": {},
   "outputs": [
    {
     "name": "stdout",
     "output_type": "stream",
     "text": [
      "7\n"
     ]
    }
   ],
   "source": [
    "a=5;\n",
    "b=2;\n",
    "c=a+b;\n",
    "print(c);"
   ]
  },
  {
   "cell_type": "markdown",
   "metadata": {},
   "source": [
    "#this is sum of the two numbers program"
   ]
  },
  {
   "cell_type": "markdown",
   "metadata": {},
   "source": [
    "# heading1\n",
    "## heading2\n",
    "### heading3\n",
    "#### heading4\n",
    "##### heading5\n",
    "###### heading6\n",
    "###### heading7"
   ]
  },
  {
   "cell_type": "markdown",
   "metadata": {},
   "source": [
    "# Markdown Syntax\n",
    "## Shortcuts for Jupyter notebook\n"
   ]
  },
  {
   "cell_type": "markdown",
   "metadata": {},
   "source": [
    "1. use linearlist syntax is= \" number+.+text\"\n",
    "3. use unorderlist syntax is=\"* (or + or -) text\""
   ]
  },
  {
   "cell_type": "markdown",
   "metadata": {},
   "source": [
    "* for non linear\n",
    "+ for also non linear\n",
    "- for also non linear"
   ]
  },
  {
   "cell_type": "markdown",
   "metadata": {},
   "source": [
    "+ it is easy\n",
    "    + is is ok\n",
    "        + is is also ok"
   ]
  },
  {
   "cell_type": "markdown",
   "metadata": {},
   "source": [
    "** it is bold **"
   ]
  },
  {
   "cell_type": "markdown",
   "metadata": {},
   "source": [
    "*** it is bold ***"
   ]
  },
  {
   "cell_type": "markdown",
   "metadata": {},
   "source": [
    "![python logo](https://images.ctfassets.net/23aumh6u8s0i/6uBzrqHNLlSAoER6HtgDN0/accd8f871b1de37f472b94da4346afa2/python-hero)"
   ]
  },
  {
   "cell_type": "markdown",
   "metadata": {},
   "source": [
    "[click here for image](https://insights.dice.com/wp-content/uploads/2020/03/shutterstock_1375882658-e1583354582236.jpg)"
   ]
  },
  {
   "cell_type": "markdown",
   "metadata": {},
   "source": [
    "|Student name|Roll number|College name|\n",
    "|------------|-----------|------------|\n",
    "|sai|101|pace|\n",
    "|pavan|102|pace|\n",
    "|venkatesh|103|rise|"
   ]
  },
  {
   "cell_type": "markdown",
   "metadata": {},
   "source": [
    "# c code\n",
    "```c\n",
    "#include<Stdio.h>\n",
    "#include<conio.h>\n",
    "void main(){\n",
    "int a,b,c;\n",
    "printf(\"Hello World\");\n",
    "}\n",
    "```\n",
    "## python code\n",
    "```python\n",
    "print(\"Enter a value\");\n",
    "```\n"
   ]
  },
  {
   "cell_type": "markdown",
   "metadata": {},
   "source": [
    "# quitoes\n",
    "> sun Raises in the east"
   ]
  },
  {
   "cell_type": "markdown",
   "metadata": {},
   "source": [
    "> python is `easy` to use"
   ]
  },
  {
   "cell_type": "markdown",
   "metadata": {},
   "source": [
    "$$(a+b)^2=a^2+b^2+2*a*b$$"
   ]
  },
  {
   "cell_type": "markdown",
   "metadata": {},
   "source": [
    "$ \\alpha+\\beta+\\gamma $"
   ]
  },
  {
   "cell_type": "code",
   "execution_count": null,
   "metadata": {},
   "outputs": [],
   "source": []
  }
 ],
 "metadata": {
  "kernelspec": {
   "display_name": "Python 3",
   "language": "python",
   "name": "python3"
  },
  "language_info": {
   "codemirror_mode": {
    "name": "ipython",
    "version": 3
   },
   "file_extension": ".py",
   "mimetype": "text/x-python",
   "name": "python",
   "nbconvert_exporter": "python",
   "pygments_lexer": "ipython3",
   "version": "3.8.5"
  }
 },
 "nbformat": 4,
 "nbformat_minor": 4
}
